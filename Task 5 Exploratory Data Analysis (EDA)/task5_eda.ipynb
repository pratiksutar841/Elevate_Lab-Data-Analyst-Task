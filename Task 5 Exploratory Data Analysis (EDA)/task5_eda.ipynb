{
 "cells": [
  {
   "cell_type": "markdown",
   "id": "e3364905",
   "metadata": {},
   "source": [
    "# Titanic - Exploratory Data Analysis\n",
    "This notebook contains EDA on a synthetic Titanic-like dataset. It includes data summary, visualizations, and insights."
   ]
  },
  {
   "cell_type": "code",
   "execution_count": null,
   "id": "a765d37a",
   "metadata": {},
   "outputs": [],
   "source": [
    "import pandas as pd\n",
    "pd.set_option('display.max_columns', None)\n",
    "df = pd.read_csv('titanic_synthetic.csv')\n",
    "df.head()"
   ]
  },
  {
   "cell_type": "markdown",
   "id": "16ed414f",
   "metadata": {},
   "source": [
    "## Data Info & Summary\n",
    "Use `.info()` and `.describe()` to inspect data types and summary statistics."
   ]
  },
  {
   "cell_type": "code",
   "execution_count": null,
   "id": "ae3335a6",
   "metadata": {},
   "outputs": [],
   "source": [
    "df.info()\n",
    "\n",
    "df.describe(include='all')"
   ]
  },
  {
   "cell_type": "markdown",
   "id": "9d78147f",
   "metadata": {},
   "source": [
    "## Missing Values"
   ]
  },
  {
   "cell_type": "code",
   "execution_count": null,
   "id": "29578125",
   "metadata": {},
   "outputs": [],
   "source": [
    "df.isnull().sum()"
   ]
  },
  {
   "cell_type": "markdown",
   "id": "18f8a326",
   "metadata": {},
   "source": [
    "## Visualizations\n",
    "The notebook includes saved plots in the repository. Displaying images below."
   ]
  },
  {
   "cell_type": "code",
   "execution_count": null,
   "id": "08464aa2",
   "metadata": {},
   "outputs": [],
   "source": [
    "from IPython.display import Image, display\n",
    "images = ['hist_age.png','box_fare_pclass.png','survival_by_sex.png','survival_by_pclass.png','corr_heatmap.png','scatter_matrix.png']\n",
    "for im in images:\n",
    "    display(Image(im))"
   ]
  },
  {
   "cell_type": "markdown",
   "id": "ea0d0d37",
   "metadata": {},
   "source": [
    "## Findings\n",
    "Refer to `findings.txt` for top-level observations and to the PDF report for a concise summary."
   ]
  }
 ],
 "metadata": {},
 "nbformat": 4,
 "nbformat_minor": 5
}
